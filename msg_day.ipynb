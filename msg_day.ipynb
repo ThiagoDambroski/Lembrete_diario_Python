{
 "cells": [
  {
   "cell_type": "markdown",
   "id": "4f6512f1",
   "metadata": {},
   "source": [
    "Imports e a mensagem do dia"
   ]
  },
  {
   "cell_type": "code",
   "execution_count": 6,
   "id": "f7e7d2bf",
   "metadata": {},
   "outputs": [],
   "source": [
    "import pyautogui\n",
    "import pyperclip\n",
    "msg_to = \"trust\"\n",
    "msg_day = \"teste 1\""
   ]
  },
  {
   "cell_type": "markdown",
   "id": "496418ed",
   "metadata": {},
   "source": [
    "rodando o autogui"
   ]
  },
  {
   "cell_type": "code",
   "execution_count": 7,
   "id": "5e2168bf",
   "metadata": {},
   "outputs": [],
   "source": [
    "pyautogui.PAUSE = 1\n",
    "pyautogui.press(\"win\")\n",
    "pyautogui.write(\"whatsapp\")\n",
    "pyautogui.press(\"Enter\")\n",
    "pyautogui.click(146,121)\n",
    "pyautogui.write(msg_to)\n",
    "pyautogui.press(\"Enter\")\n",
    "pyperclip.copy(msg_day)\n",
    "pyautogui.hotkey(\"ctrl\",\"v\")\n",
    "pyautogui.press(\"Enter\")"
   ]
  },
  {
   "cell_type": "markdown",
   "id": "4aed4b2c",
   "metadata": {},
   "source": [
    "Pegando a posiçao do mouse"
   ]
  },
  {
   "cell_type": "code",
   "execution_count": 21,
   "id": "7ac9e5ac",
   "metadata": {},
   "outputs": [
    {
     "name": "stdout",
     "output_type": "stream",
     "text": [
      "Point(x=146, y=121)\n"
     ]
    }
   ],
   "source": [
    "\n",
    "import time\n",
    "time.sleep(5)\n",
    "print(pyautogui.position())"
   ]
  },
  {
   "cell_type": "code",
   "execution_count": null,
   "id": "ef90ff6e",
   "metadata": {},
   "outputs": [],
   "source": []
  }
 ],
 "metadata": {
  "kernelspec": {
   "display_name": "Python 3 (ipykernel)",
   "language": "python",
   "name": "python3"
  },
  "language_info": {
   "codemirror_mode": {
    "name": "ipython",
    "version": 3
   },
   "file_extension": ".py",
   "mimetype": "text/x-python",
   "name": "python",
   "nbconvert_exporter": "python",
   "pygments_lexer": "ipython3",
   "version": "3.9.7"
  }
 },
 "nbformat": 4,
 "nbformat_minor": 5
}
